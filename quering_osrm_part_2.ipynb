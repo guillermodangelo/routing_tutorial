{
 "cells": [
  {
   "cell_type": "markdown",
   "id": "ae19bcc0",
   "metadata": {},
   "source": [
    "# Quering the OSRM API using Python: Part 2\n",
    "\n",
    "## Introduction\n",
    "\n",
    "In this notebook we'll be working with the tile service. This OSRM service is used to generate Mapbox vector tiles (MVT) that can be used in a web map, but with the solely proposes of visualize OSM data for debugging.\n",
    "\n",
    "I'll be using the same container that we used in the previous notebook. The example is really simple, as we only need to pass the coordinates of the starting and ending points, and the tile size.\n",
    "\n",
    "I'll use the amazing library called [**leafmap**](https://leafmap.org/) to visualize the results. It's a Python library that allows you to create interactive maps with Leaflet, and it's really easy to use.\n",
    "\n",
    "If you don't want to use leafmap, you can also use **folium**, which has fewer features."
   ]
  },
  {
   "cell_type": "code",
   "execution_count": 8,
   "id": "df12c476",
   "metadata": {},
   "outputs": [],
   "source": [
    "import leafmap as leafmap\n",
    "\n",
    "URL = \"http://127.0.0.1:5000/tile/v1/car/tile({x},{y},{z}).mvt\""
   ]
  },
  {
   "cell_type": "markdown",
   "id": "4f0a8d24",
   "metadata": {},
   "source": [
    "In this example, we are visualizing the line features of the MVT, while hiding the nodes."
   ]
  },
  {
   "cell_type": "code",
   "execution_count": 11,
   "id": "468abddc",
   "metadata": {},
   "outputs": [
    {
     "data": {
      "application/vnd.jupyter.widget-view+json": {
       "model_id": "7ab952a457b74665800f485ade32ced9",
       "version_major": 2,
       "version_minor": 0
      },
      "text/plain": [
       "Map(center=[35.899, 14.514], controls=(ZoomControl(options=['position', 'zoom_in_text', 'zoom_in_title', 'zoom…"
      ]
     },
     "execution_count": 11,
     "metadata": {},
     "output_type": "execute_result"
    }
   ],
   "source": [
    "center_coords = (35.899, 14.514)\n",
    "\n",
    "m = leafmap.Map(center=center_coords, zoom=16,  height=\"400px\", width=\"800px\")\n",
    "\n",
    "place = dict(\n",
    "    weight=2,\n",
    "    fillColor=\"#f20e93\",\n",
    "    color=\"#f20e93\",\n",
    "    fillOpacity=0,\n",
    "    opacity=0\n",
    ")\n",
    "\n",
    "place2 = dict(\n",
    "    weight=2,\n",
    "    fillColor=\"#05a045\",\n",
    "    color=\"#0c9608\",\n",
    "    fillOpacity=0,\n",
    "    opacity=0\n",
    ")\n",
    "\n",
    "lines = dict(\n",
    "    weight=2,\n",
    "    color=\"#f20e93\",\n",
    "    opacity=1\n",
    ")\n",
    "\n",
    "\n",
    "vector_styles = dict(\n",
    "    osmnodes=place,\n",
    "    speeds=lines,\n",
    "    turns=place2,\n",
    ")\n",
    "\n",
    "m.add_vector_tile_layer(URL, vector_tile_layer_styles=vector_styles)\n",
    "m"
   ]
  },
  {
   "cell_type": "code",
   "execution_count": null,
   "id": "5ba48436",
   "metadata": {},
   "outputs": [],
   "source": []
  }
 ],
 "metadata": {
  "kernelspec": {
   "display_name": ".venv",
   "language": "python",
   "name": "python3"
  },
  "language_info": {
   "codemirror_mode": {
    "name": "ipython",
    "version": 3
   },
   "file_extension": ".py",
   "mimetype": "text/x-python",
   "name": "python",
   "nbconvert_exporter": "python",
   "pygments_lexer": "ipython3",
   "version": "3.13.1"
  }
 },
 "nbformat": 4,
 "nbformat_minor": 5
}
